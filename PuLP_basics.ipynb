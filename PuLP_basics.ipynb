{
 "cells": [
  {
   "cell_type": "markdown",
   "metadata": {},
   "source": [
    "# PuLP basics"
   ]
  },
  {
   "cell_type": "markdown",
   "metadata": {},
   "source": [
    "FONTE: "
   ]
  },
  {
   "cell_type": "markdown",
   "metadata": {},
   "source": [
    "- https://www.youtube.com/watch?v=qNA7Y57bXLQ&list=PLr5INjIG1eXXdQuv5wZwreUyStGKsQIff"
   ]
  },
  {
   "cell_type": "markdown",
   "metadata": {},
   "source": [
    "- https://scipbook.readthedocs.io/en/latest/flp.html#capacitated-facility-location-problem"
   ]
  },
  {
   "cell_type": "markdown",
   "metadata": {},
   "source": [
    "**Instalando/carregando o módulo**"
   ]
  },
  {
   "cell_type": "raw",
   "metadata": {},
   "source": [
    "!pip install --trusted-host pypi.org --trusted-host files.pythonhosted.org pulp"
   ]
  },
  {
   "cell_type": "code",
   "execution_count": 77,
   "metadata": {},
   "outputs": [],
   "source": [
    "from pulp import *"
   ]
  },
  {
   "cell_type": "markdown",
   "metadata": {},
   "source": [
    "**Definindo os conjuntos**"
   ]
  },
  {
   "cell_type": "code",
   "execution_count": 78,
   "metadata": {},
   "outputs": [],
   "source": [
    "FOODS = ['OATMEAL', 'CHICKEN', 'EGGS', 'MILK']\n",
    "CUSTUMER = [1, 2, 3, 4, 5]\n",
    "FACILITY = ['FAC 1', 'FAC 2', 'FAC 3']"
   ]
  },
  {
   "cell_type": "markdown",
   "metadata": {},
   "source": [
    "**Parâmetros**"
   ]
  },
  {
   "cell_type": "code",
   "execution_count": 79,
   "metadata": {},
   "outputs": [],
   "source": [
    "dem = {1 : 80,\n",
    "       2 : 270,\n",
    "       3 : 250,\n",
    "       4 : 160,\n",
    "       5 : 170}"
   ]
  },
  {
   "cell_type": "code",
   "execution_count": 80,
   "metadata": {},
   "outputs": [],
   "source": [
    "actcost = {'FAC 1' : 1000,\n",
    "           'FAC 2' : 1000,\n",
    "           'FAC 3' : 1000}"
   ]
  },
  {
   "cell_type": "code",
   "execution_count": 81,
   "metadata": {},
   "outputs": [],
   "source": [
    "maxam = {'FAC 1' : 500,\n",
    "         'FAC 2' : 500,\n",
    "         'FAC 3' : 500,}"
   ]
  },
  {
   "cell_type": "code",
   "execution_count": 82,
   "metadata": {},
   "outputs": [],
   "source": [
    "transp = {'FAC 1' : {1:4, 2:5, 3:6, 4:8, 5:10},\n",
    "          'FAC 2' : {1:6, 2:4, 3:3, 4:5, 5:8},\n",
    "          'FAC 3' : {1:9, 2:7, 3:4, 4:3, 5:4}}"
   ]
  },
  {
   "cell_type": "markdown",
   "metadata": {},
   "source": [
    "**Definindo o problema**"
   ]
  },
  {
   "cell_type": "code",
   "execution_count": 83,
   "metadata": {},
   "outputs": [],
   "source": [
    "prob = LpProblem(\"FacilityLocation\", LpMinimize)"
   ]
  },
  {
   "cell_type": "markdown",
   "metadata": {},
   "source": [
    "**Definindo as variáveis de decisão**"
   ]
  },
  {
   "cell_type": "code",
   "execution_count": 84,
   "metadata": {},
   "outputs": [],
   "source": [
    "use_vars = LpVariable.dicts(\"UseLocation\", FACILITY, 0, 1, LpBinary)"
   ]
  },
  {
   "cell_type": "code",
   "execution_count": 85,
   "metadata": {},
   "outputs": [],
   "source": [
    "serv_vars = LpVariable.dicts(\"Service\", [(i,j) for i in CUSTUMER\n",
    "                                          for j in FACILITY],\n",
    "                      0) #OBS: definindo uso de 'j' para FACILITY e 'i' para CUSTUMER"
   ]
  },
  {
   "cell_type": "code",
   "execution_count": 86,
   "metadata": {},
   "outputs": [],
   "source": [
    "foods_vars = LpVariable.dicts(\"food\", FOODS, 0)"
   ]
  },
  {
   "cell_type": "markdown",
   "metadata": {},
   "source": [
    "**Função objetivo**"
   ]
  },
  {
   "cell_type": "code",
   "execution_count": 87,
   "metadata": {},
   "outputs": [],
   "source": [
    "prob += lpSum(actcost[j]*use_vars[j] for j in FACILITY) \\\n",
    "        + lpSum(transp[j][i]*serv_vars[(i,j)] for j in FACILITY\n",
    "                                              for i in CUSTUMER)\n",
    "\n",
    "#OBS: usar atentamente os indices j e i."
   ]
  },
  {
   "cell_type": "markdown",
   "metadata": {},
   "source": [
    "**Constraints**"
   ]
  },
  {
   "cell_type": "code",
   "execution_count": 88,
   "metadata": {},
   "outputs": [],
   "source": [
    "for i in CUSTUMER:\n",
    "    prob += lpSum(serv_vars[(i,j)] for j in FACILITY) == dem[i]"
   ]
  },
  {
   "cell_type": "code",
   "execution_count": 89,
   "metadata": {},
   "outputs": [],
   "source": [
    "for j in FACILITY:\n",
    "    prob += lpSum(serv_vars[(i,j)] for i in CUSTUMER) <= maxam[j]"
   ]
  },
  {
   "cell_type": "code",
   "execution_count": 90,
   "metadata": {},
   "outputs": [],
   "source": [
    "for i in CUSTUMER:\n",
    "    for j in FACILITY:\n",
    "        prob += serv_vars[(i,j)] <= dem[i]*use_vars[j]"
   ]
  },
  {
   "cell_type": "markdown",
   "metadata": {},
   "source": [
    "**Solving**"
   ]
  },
  {
   "cell_type": "code",
   "execution_count": 91,
   "metadata": {},
   "outputs": [
    {
     "data": {
      "text/plain": [
       "1"
      ]
     },
     "execution_count": 91,
     "metadata": {},
     "output_type": "execute_result"
    }
   ],
   "source": [
    "prob.solve()"
   ]
  },
  {
   "cell_type": "code",
   "execution_count": 92,
   "metadata": {},
   "outputs": [
    {
     "name": "stdout",
     "output_type": "stream",
     "text": [
      "Status: Optimal\n"
     ]
    }
   ],
   "source": [
    "print('Status:', LpStatus[prob.status])"
   ]
  },
  {
   "cell_type": "code",
   "execution_count": 97,
   "metadata": {},
   "outputs": [
    {
     "name": "stdout",
     "output_type": "stream",
     "text": [
      "Estabilish facility at site FAC 2.\n",
      "Estabilish facility at site FAC 3.\n"
     ]
    }
   ],
   "source": [
    "TOL = 0.000001\n",
    "for i in FACILITY:\n",
    "    if use_vars[i].varValue > TOL:\n",
    "        print('Estabilish facility at site ', i, '.', sep='')"
   ]
  },
  {
   "cell_type": "code",
   "execution_count": 94,
   "metadata": {},
   "outputs": [
    {
     "name": "stdout",
     "output_type": "stream",
     "text": [
      "Service_(1,_'FAC_1') = 0.0\n",
      "Service_(1,_'FAC_2') = 80.0\n",
      "Service_(1,_'FAC_3') = 0.0\n",
      "Service_(2,_'FAC_1') = 0.0\n",
      "Service_(2,_'FAC_2') = 270.0\n",
      "Service_(2,_'FAC_3') = 0.0\n",
      "Service_(3,_'FAC_1') = 0.0\n",
      "Service_(3,_'FAC_2') = 150.0\n",
      "Service_(3,_'FAC_3') = 100.0\n",
      "Service_(4,_'FAC_1') = 0.0\n",
      "Service_(4,_'FAC_2') = 0.0\n",
      "Service_(4,_'FAC_3') = 160.0\n",
      "Service_(5,_'FAC_1') = 0.0\n",
      "Service_(5,_'FAC_2') = 0.0\n",
      "Service_(5,_'FAC_3') = 170.0\n",
      "UseLocation_FAC_1 = 0.0\n",
      "UseLocation_FAC_2 = 1.0\n",
      "UseLocation_FAC_3 = 1.0\n"
     ]
    }
   ],
   "source": [
    "for v in prob.variables():\n",
    "    print(v.name,'=',v.varValue)"
   ]
  },
  {
   "cell_type": "code",
   "execution_count": 95,
   "metadata": {},
   "outputs": [
    {
     "name": "stdout",
     "output_type": "stream",
     "text": [
      "Total cost of food/serving 5570.0\n"
     ]
    }
   ],
   "source": [
    "print('Total cost of food/serving', value(prob.objective))"
   ]
  },
  {
   "cell_type": "code",
   "execution_count": null,
   "metadata": {},
   "outputs": [],
   "source": []
  }
 ],
 "metadata": {
  "kernelspec": {
   "display_name": "Python 3",
   "language": "python",
   "name": "python3"
  },
  "language_info": {
   "codemirror_mode": {
    "name": "ipython",
    "version": 3
   },
   "file_extension": ".py",
   "mimetype": "text/x-python",
   "name": "python",
   "nbconvert_exporter": "python",
   "pygments_lexer": "ipython3",
   "version": "3.7.3"
  }
 },
 "nbformat": 4,
 "nbformat_minor": 2
}
