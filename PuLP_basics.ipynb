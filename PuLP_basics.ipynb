{
 "cells": [
  {
   "cell_type": "markdown",
   "metadata": {},
   "source": [
    "# PuLP basics"
   ]
  },
  {
   "cell_type": "markdown",
   "metadata": {},
   "source": [
    "FONTE: "
   ]
  },
  {
   "cell_type": "markdown",
   "metadata": {},
   "source": [
    "- https://www.youtube.com/watch?v=qNA7Y57bXLQ&list=PLr5INjIG1eXXdQuv5wZwreUyStGKsQIff"
   ]
  },
  {
   "cell_type": "markdown",
   "metadata": {},
   "source": [
    "- https://scipbook.readthedocs.io/en/latest/flp.html#capacitated-facility-location-problem"
   ]
  },
  {
   "cell_type": "markdown",
   "metadata": {},
   "source": [
    "**Instalando/carregando o módulo**"
   ]
  },
  {
   "cell_type": "raw",
   "metadata": {},
   "source": [
    "!pip install --trusted-host pypi.org --trusted-host files.pythonhosted.org pulp"
   ]
  },
  {
   "cell_type": "code",
   "execution_count": 77,
   "metadata": {},
   "outputs": [],
   "source": [
    "from pulp import *"
   ]
  },
  {
   "cell_type": "markdown",
   "metadata": {},
   "source": [
    "**Definindo os conjuntos**"
   ]
  },
  {
   "cell_type": "code",
   "execution_count": 78,
   "metadata": {},
   "outputs": [],
   "source": [
    "FOODS = ['OATMEAL', 'CHICKEN', 'EGGS', 'MILK']\n",
    "CUSTUMER = [1, 2, 3, 4, 5]\n",
    "FACILITY = ['FAC 1', 'FAC 2', 'FAC 3']"
   ]
  },
  {
   "cell_type": "markdown",
   "metadata": {},
   "source": [
    "**Parâmetros**"
   ]
  },
  {
   "cell_type": "code",
   "execution_count": 79,
   "metadata": {},
   "outputs": [],
   "source": [
    "dem = {1 : 80,\n",
    "       2 : 270,\n",
    "       3 : 250,\n",
    "       4 : 160,\n",
    "       5 : 170}"
   ]
  },
  {
   "cell_type": "code",
   "execution_count": 80,
   "metadata": {},
   "outputs": [],
   "source": [
    "actcost = {'FAC 1' : 1000,\n",
    "           'FAC 2' : 1000,\n",
    "           'FAC 3' : 1000}"
   ]
  },
  {
   "cell_type": "code",
   "execution_count": 81,
   "metadata": {},
   "outputs": [],
   "source": [
    "maxam = {'FAC 1' : 500,\n",
    "         'FAC 2' : 500,\n",
    "         'FAC 3' : 500,}"
   ]
  },
  {
   "cell_type": "code",
   "execution_count": 82,
   "metadata": {},
   "outputs": [],
   "source": [
    "transp = {'FAC 1' : {1:4, 2:5, 3:6, 4:8, 5:10},\n",
    "          'FAC 2' : {1:6, 2:4, 3:3, 4:5, 5:8},\n",
    "          'FAC 3' : {1:9, 2:7, 3:4, 4:3, 5:4}}"
   ]
  },
  {
   "cell_type": "markdown",
   "metadata": {},
   "source": [
    "**Definindo o problema**"
   ]
  },
  {
   "cell_type": "code",
   "execution_count": 83,
   "metadata": {},
   "outputs": [],
   "source": [
    "prob = LpProblem(\"FacilityLocation\", LpMinimize)"
   ]
  },
  {
   "cell_type": "markdown",
   "metadata": {},
   "source": [
    "**Definindo as variáveis de decisão**"
   ]
  },
  {
   "cell_type": "code",
   "execution_count": 84,
   "metadata": {},
   "outputs": [],
   "source": [
    "use_vars = LpVariable.dicts(\"UseLocation\", FACILITY, 0, 1, LpBinary)"
   ]
  },
  {
   "cell_type": "code",
   "execution_count": 85,
   "metadata": {},
   "outputs": [],
   "source": [
    "serv_vars = LpVariable.dicts(\"Service\", [(i,j) for i in CUSTUMER\n",
    "                                          for j in FACILITY],\n",
    "                      0) #OBS: definindo uso de 'j' para FACILITY e 'i' para CUSTUMER"
   ]
  },
  {
   "cell_type": "code",
   "execution_count": 86,
   "metadata": {},
   "outputs": [],
   "source": [
    "foods_vars = LpVariable.dicts(\"food\", FOODS, 0)"
   ]
  },
  {
   "cell_type": "markdown",
   "metadata": {},
   "source": [
    "**Função objetivo**"
   ]
  },
  {
   "cell_type": "code",
   "execution_count": 87,
   "metadata": {},
   "outputs": [],
   "source": [
    "prob += lpSum(actcost[j]*use_vars[j] for j in FACILITY) \\\n",
    "        + lpSum(transp[j][i]*serv_vars[(i,j)] for j in FACILITY\n",
    "                                              for i in CUSTUMER)\n",
    "\n",
    "#OBS: usar atentamente os indices j e i."
   ]
  },
  {
   "cell_type": "markdown",
   "metadata": {},
   "source": [
    "**Constraints**"
   ]
  },
  {
   "cell_type": "code",
   "execution_count": 88,
   "metadata": {},
   "outputs": [],
   "source": [
    "for i in CUSTUMER:\n",
    "    prob += lpSum(serv_vars[(i,j)] for j in FACILITY) == dem[i]"
   ]
  },
  {
   "cell_type": "code",
   "execution_count": 89,
   "metadata": {},
   "outputs": [],
   "source": [
    "for j in FACILITY:\n",
    "    prob += lpSum(serv_vars[(i,j)] for i in CUSTUMER) <= maxam[j]"
   ]
  },
  {
   "cell_type": "code",
   "execution_count": 90,
   "metadata": {},
   "outputs": [],
   "source": [
    "for i in CUSTUMER:\n",
    "    for j in FACILITY:\n",
    "        prob += serv_vars[(i,j)] <= dem[i]*use_vars[j]"
   ]
  },
  {
   "cell_type": "markdown",
   "metadata": {},
   "source": [
    "**Solving**"
   ]
  },
  {
   "cell_type": "code",
   "execution_count": 91,
   "metadata": {},
   "outputs": [
    {
     "data": {
      "text/plain": [
       "1"
      ]
     },
     "execution_count": 91,
     "metadata": {},
     "output_type": "execute_result"
    }
   ],
   "source": [
    "prob.solve()"
   ]
  },
  {
   "cell_type": "code",
   "execution_count": 92,
   "metadata": {},
   "outputs": [
    {
     "name": "stdout",
     "output_type": "stream",
     "text": [
      "Status: Optimal\n"
     ]
    }
   ],
   "source": [
    "print('Status:', LpStatus[prob.status])"
   ]
  },
  {
   "cell_type": "code",
   "execution_count": 97,
   "metadata": {},
   "outputs": [
    {
     "name": "stdout",
     "output_type": "stream",
     "text": [
      "Estabilish facility at site FAC 2.\n",
      "Estabilish facility at site FAC 3.\n"
     ]
    }
   ],
   "source": [
    "TOL = 0.000001\n",
    "for i in FACILITY:\n",
    "    if use_vars[i].varValue > TOL:\n",
    "        print('Estabilish facility at site ', i, '.', sep='')"
   ]
  },
  {
   "cell_type": "code",
   "execution_count": 94,
   "metadata": {},
   "outputs": [
    {
     "name": "stdout",
     "output_type": "stream",
     "text": [
      "Service_(1,_'FAC_1') = 0.0\n",
      "Service_(1,_'FAC_2') = 80.0\n",
      "Service_(1,_'FAC_3') = 0.0\n",
      "Service_(2,_'FAC_1') = 0.0\n",
      "Service_(2,_'FAC_2') = 270.0\n",
      "Service_(2,_'FAC_3') = 0.0\n",
      "Service_(3,_'FAC_1') = 0.0\n",
      "Service_(3,_'FAC_2') = 150.0\n",
      "Service_(3,_'FAC_3') = 100.0\n",
      "Service_(4,_'FAC_1') = 0.0\n",
      "Service_(4,_'FAC_2') = 0.0\n",
      "Service_(4,_'FAC_3') = 160.0\n",
      "Service_(5,_'FAC_1') = 0.0\n",
      "Service_(5,_'FAC_2') = 0.0\n",
      "Service_(5,_'FAC_3') = 170.0\n",
      "UseLocation_FAC_1 = 0.0\n",
      "UseLocation_FAC_2 = 1.0\n",
      "UseLocation_FAC_3 = 1.0\n"
     ]
    }
   ],
   "source": [
    "for v in prob.variables():\n",
    "    print(v.name,'=',v.varValue)"
   ]
  },
  {
   "cell_type": "code",
   "execution_count": 95,
   "metadata": {},
   "outputs": [
    {
     "name": "stdout",
     "output_type": "stream",
     "text": [
      "Total cost of food/serving 5570.0\n"
     ]
    }
   ],
   "source": [
    "print('Total cost of food/serving', value(prob.objective))"
   ]
  },
  {
   "cell_type": "markdown",
   "metadata": {},
   "source": [
    "***"
   ]
  },
  {
   "cell_type": "code",
   "execution_count": 4,
   "metadata": {},
   "outputs": [],
   "source": [
    "from pulp import *\n",
    "import pandas as pd"
   ]
  },
  {
   "cell_type": "code",
   "execution_count": 3,
   "metadata": {},
   "outputs": [
    {
     "data": {
      "text/plain": "Simple_diet_problem:\nMINIMIZE\nNone\nVARIABLES"
     },
     "execution_count": 3,
     "metadata": {},
     "output_type": "execute_result"
    }
   ],
   "source": [
    "prob"
   ]
  },
  {
   "cell_type": "code",
   "execution_count": 24,
   "metadata": {},
   "outputs": [],
   "source": [
    "file_path = '/home/anderson/Downloads/diet - medium.xls'\n",
    "\n",
    "df = pd.read_excel(file_path, nrows=17)"
   ]
  },
  {
   "cell_type": "code",
   "execution_count": 25,
   "metadata": {},
   "outputs": [
    {
     "data": {
      "text/html": "<div>\n<style scoped>\n    .dataframe tbody tr th:only-of-type {\n        vertical-align: middle;\n    }\n\n    .dataframe tbody tr th {\n        vertical-align: top;\n    }\n\n    .dataframe thead th {\n        text-align: right;\n    }\n</style>\n<table border=\"1\" class=\"dataframe\">\n  <thead>\n    <tr style=\"text-align: right;\">\n      <th></th>\n      <th>Foods</th>\n      <th>Price/Serving</th>\n      <th>Serving Size</th>\n      <th>Calories</th>\n      <th>Cholesterol (mg)</th>\n      <th>Total_Fat (g)</th>\n      <th>Sodium (mg)</th>\n      <th>Carbohydrates (g)</th>\n      <th>Dietary_Fiber (g)</th>\n      <th>Protein (g)</th>\n      <th>Vit_A (IU)</th>\n      <th>Vit_C (IU)</th>\n      <th>Calcium (mg)</th>\n      <th>Iron (mg)</th>\n    </tr>\n  </thead>\n  <tbody>\n    <tr>\n      <td>12</td>\n      <td>Apple Pie</td>\n      <td>0.48</td>\n      <td>1 Oz</td>\n      <td>67.2</td>\n      <td>0.0</td>\n      <td>3.1</td>\n      <td>75.4</td>\n      <td>9.6</td>\n      <td>0.5</td>\n      <td>0.5</td>\n      <td>35.2</td>\n      <td>0.9</td>\n      <td>3.1</td>\n      <td>0.1</td>\n    </tr>\n    <tr>\n      <td>13</td>\n      <td>Scrambled Eggs</td>\n      <td>0.33</td>\n      <td>1 Egg</td>\n      <td>99.6</td>\n      <td>211.2</td>\n      <td>7.3</td>\n      <td>168.0</td>\n      <td>1.3</td>\n      <td>0.0</td>\n      <td>6.7</td>\n      <td>409.2</td>\n      <td>0.1</td>\n      <td>42.6</td>\n      <td>0.7</td>\n    </tr>\n    <tr>\n      <td>14</td>\n      <td>Turkey Bologna</td>\n      <td>0.45</td>\n      <td>1 Oz</td>\n      <td>56.4</td>\n      <td>28.1</td>\n      <td>4.3</td>\n      <td>248.9</td>\n      <td>0.3</td>\n      <td>0.0</td>\n      <td>3.9</td>\n      <td>0.0</td>\n      <td>0.0</td>\n      <td>23.8</td>\n      <td>0.4</td>\n    </tr>\n    <tr>\n      <td>15</td>\n      <td>Beef Frankfurter</td>\n      <td>0.81</td>\n      <td>1 Frankfurter</td>\n      <td>141.8</td>\n      <td>27.4</td>\n      <td>12.8</td>\n      <td>461.7</td>\n      <td>0.8</td>\n      <td>0.0</td>\n      <td>5.4</td>\n      <td>0.0</td>\n      <td>10.8</td>\n      <td>9.0</td>\n      <td>0.6</td>\n    </tr>\n    <tr>\n      <td>16</td>\n      <td>Chocolate Chip Cookies</td>\n      <td>0.09</td>\n      <td>1 Cookie</td>\n      <td>78.1</td>\n      <td>5.1</td>\n      <td>4.5</td>\n      <td>57.8</td>\n      <td>9.3</td>\n      <td>0.0</td>\n      <td>0.9</td>\n      <td>101.8</td>\n      <td>0.0</td>\n      <td>6.2</td>\n      <td>0.4</td>\n    </tr>\n  </tbody>\n</table>\n</div>",
      "text/plain": "                     Foods  Price/Serving   Serving Size  Calories  \\\n12               Apple Pie           0.48           1 Oz      67.2   \n13          Scrambled Eggs           0.33          1 Egg      99.6   \n14          Turkey Bologna           0.45           1 Oz      56.4   \n15        Beef Frankfurter           0.81  1 Frankfurter     141.8   \n16  Chocolate Chip Cookies           0.09       1 Cookie      78.1   \n\n    Cholesterol (mg)  Total_Fat (g)  Sodium (mg)  Carbohydrates (g)  \\\n12               0.0            3.1         75.4                9.6   \n13             211.2            7.3        168.0                1.3   \n14              28.1            4.3        248.9                0.3   \n15              27.4           12.8        461.7                0.8   \n16               5.1            4.5         57.8                9.3   \n\n    Dietary_Fiber (g)  Protein (g)  Vit_A (IU)  Vit_C (IU)  Calcium (mg)  \\\n12                0.5          0.5        35.2         0.9           3.1   \n13                0.0          6.7       409.2         0.1          42.6   \n14                0.0          3.9         0.0         0.0          23.8   \n15                0.0          5.4         0.0        10.8           9.0   \n16                0.0          0.9       101.8         0.0           6.2   \n\n    Iron (mg)  \n12        0.1  \n13        0.7  \n14        0.4  \n15        0.6  \n16        0.4  "
     },
     "execution_count": 25,
     "metadata": {},
     "output_type": "execute_result"
    }
   ],
   "source": [
    "df.tail()"
   ]
  },
  {
   "cell_type": "code",
   "execution_count": 153,
   "metadata": {},
   "outputs": [],
   "source": [
    "#instantiation of LP object\n",
    "prob = LpProblem('Simple diet problem', LpMinimize)"
   ]
  },
  {
   "cell_type": "code",
   "execution_count": 154,
   "metadata": {},
   "outputs": [],
   "source": [
    "#sets\n",
    "food_items =  df['Foods'].to_list()"
   ]
  },
  {
   "cell_type": "code",
   "execution_count": 155,
   "metadata": {},
   "outputs": [],
   "source": [
    "#constants\n",
    "costs = dict(zip(food_items, df['Price/Serving'].to_list()))\n",
    "calories = dict(zip(food_items, df['Calories']))\n",
    "fat = dict(zip(food_items,df['Total_Fat (g)']))\n",
    "carbs = dict(zip(food_items,df['Carbohydrates (g)']))\n",
    "proteins = dict(zip(food_items, df['Protein (g)']))"
   ]
  },
  {
   "cell_type": "code",
   "execution_count": 156,
   "metadata": {},
   "outputs": [],
   "source": [
    "#variables\n",
    "food_vars = LpVariable.dicts('Food', food_items, lowBound=0, cat='Continuous')"
   ]
  },
  {
   "cell_type": "code",
   "execution_count": 157,
   "metadata": {},
   "outputs": [],
   "source": [
    "#OBJECTIVE FUNTION\n",
    "prob += lpSum([costs[i]*food_vars[i] for i in food_items])"
   ]
  },
  {
   "cell_type": "code",
   "execution_count": 158,
   "metadata": {},
   "outputs": [],
   "source": [
    "#constraint: calories\n",
    "prob += lpSum([calories[f] * food_vars[f] for f in food_items]) >= 800.0\n",
    "prob += lpSum([calories[f] * food_vars[f] for f in food_items]) <= 1300.0"
   ]
  },
  {
   "cell_type": "code",
   "execution_count": 159,
   "metadata": {},
   "outputs": [],
   "source": [
    "#constraint: fat\n",
    "prob += lpSum([fat[f] * food_vars[f] for f in food_items]) >= 20.0\n",
    "prob += lpSum([fat[f] * food_vars[f] for f in food_items]) <= 50.0"
   ]
  },
  {
   "cell_type": "code",
   "execution_count": 160,
   "metadata": {},
   "outputs": [],
   "source": [
    "#constraint: carbs\n",
    "prob += lpSum([carbs[f] * food_vars[f] for f in food_items]) >= 130.0\n",
    "prob += lpSum([carbs[f] * food_vars[f] for f in food_items]) <= 200.0"
   ]
  },
  {
   "cell_type": "code",
   "execution_count": 161,
   "metadata": {},
   "outputs": [],
   "source": [
    "#constraint: carbs\n",
    "prob += lpSum([proteins[f] * food_vars[f] for f in food_items]) >= 100.0\n",
    "prob += lpSum([proteins[f] * food_vars[f] for f in food_items]) <= 150.0"
   ]
  },
  {
   "cell_type": "code",
   "execution_count": 162,
   "metadata": {},
   "outputs": [
    {
     "data": {
      "text/plain": "Simple_diet_problem:\nMINIMIZE\n0.48*Food_Apple_Pie + 0.44999999999999996*Food_Banana + 0.81*Food_Beef_Frankfurter + 0.09*Food_Chocolate_Chip_Cookies + 0.48*Food_Frozen_Broccoli + 0.54*Food_Frozen_Corn + 0.27*Food_Oatmeal_Cookies + 0.72*Food_Raw_Apple + 0.06*Food_Raw_Lettuce_Iceberg + 2.52*Food_Roasted_Chicken + 0.33*Food_Scrambled_Eggs + 2.34*Food_Spaghetti_W__Sauce + 0.9299999999999999*Food_Tofu + 0.44999999999999996*Food_Turkey_Bologna + 0.15000000000000002*Food_Wheat_Bread + 0.18*Food_White_Bread + 0.18*Food__Baked_Potatoes + 0.0\nSUBJECT TO\n_C1: 67.2 Food_Apple_Pie + 104.9 Food_Banana + 141.8 Food_Beef_Frankfurter\n + 78.1 Food_Chocolate_Chip_Cookies + 73.8 Food_Frozen_Broccoli\n + 72.2 Food_Frozen_Corn + 81 Food_Oatmeal_Cookies + 81.4 Food_Raw_Apple\n + 2.6 Food_Raw_Lettuce_Iceberg + 277.4 Food_Roasted_Chicken\n + 99.6 Food_Scrambled_Eggs + 358.2 Food_Spaghetti_W__Sauce + 88.2 Food_Tofu\n + 56.4 Food_Turkey_Bologna + 65 Food_Wheat_Bread + 65 Food_White_Bread\n + 171.5 Food__Baked_Potatoes >= 800\n\n_C2: 67.2 Food_Apple_Pie + 104.9 Food_Banana + 141.8 Food_Beef_Frankfurter\n + 78.1 Food_Chocolate_Chip_Cookies + 73.8 Food_Frozen_Broccoli\n + 72.2 Food_Frozen_Corn + 81 Food_Oatmeal_Cookies + 81.4 Food_Raw_Apple\n + 2.6 Food_Raw_Lettuce_Iceberg + 277.4 Food_Roasted_Chicken\n + 99.6 Food_Scrambled_Eggs + 358.2 Food_Spaghetti_W__Sauce + 88.2 Food_Tofu\n + 56.4 Food_Turkey_Bologna + 65 Food_Wheat_Bread + 65 Food_White_Bread\n + 171.5 Food__Baked_Potatoes <= 1300\n\n_C3: 3.1 Food_Apple_Pie + 0.5 Food_Banana + 12.8 Food_Beef_Frankfurter\n + 4.5 Food_Chocolate_Chip_Cookies + 0.8 Food_Frozen_Broccoli\n + 0.6 Food_Frozen_Corn + 3.3 Food_Oatmeal_Cookies + 0.5 Food_Raw_Apple\n + 10.8 Food_Roasted_Chicken + 7.3 Food_Scrambled_Eggs\n + 12.3 Food_Spaghetti_W__Sauce + 5.5 Food_Tofu + 4.3 Food_Turkey_Bologna\n + Food_Wheat_Bread + Food_White_Bread + 0.2 Food__Baked_Potatoes >= 20\n\n_C4: 3.1 Food_Apple_Pie + 0.5 Food_Banana + 12.8 Food_Beef_Frankfurter\n + 4.5 Food_Chocolate_Chip_Cookies + 0.8 Food_Frozen_Broccoli\n + 0.6 Food_Frozen_Corn + 3.3 Food_Oatmeal_Cookies + 0.5 Food_Raw_Apple\n + 10.8 Food_Roasted_Chicken + 7.3 Food_Scrambled_Eggs\n + 12.3 Food_Spaghetti_W__Sauce + 5.5 Food_Tofu + 4.3 Food_Turkey_Bologna\n + Food_Wheat_Bread + Food_White_Bread + 0.2 Food__Baked_Potatoes <= 50\n\n_C5: 9.6 Food_Apple_Pie + 26.7 Food_Banana + 0.8 Food_Beef_Frankfurter\n + 9.3 Food_Chocolate_Chip_Cookies + 13.6 Food_Frozen_Broccoli\n + 17.1 Food_Frozen_Corn + 12.4 Food_Oatmeal_Cookies + 21 Food_Raw_Apple\n + 0.4 Food_Raw_Lettuce_Iceberg + 1.3 Food_Scrambled_Eggs\n + 58.3 Food_Spaghetti_W__Sauce + 2.2 Food_Tofu + 0.3 Food_Turkey_Bologna\n + 12.4 Food_Wheat_Bread + 11.8 Food_White_Bread + 39.9 Food__Baked_Potatoes\n >= 130\n\n_C6: 9.6 Food_Apple_Pie + 26.7 Food_Banana + 0.8 Food_Beef_Frankfurter\n + 9.3 Food_Chocolate_Chip_Cookies + 13.6 Food_Frozen_Broccoli\n + 17.1 Food_Frozen_Corn + 12.4 Food_Oatmeal_Cookies + 21 Food_Raw_Apple\n + 0.4 Food_Raw_Lettuce_Iceberg + 1.3 Food_Scrambled_Eggs\n + 58.3 Food_Spaghetti_W__Sauce + 2.2 Food_Tofu + 0.3 Food_Turkey_Bologna\n + 12.4 Food_Wheat_Bread + 11.8 Food_White_Bread + 39.9 Food__Baked_Potatoes\n <= 200\n\n_C7: 0.5 Food_Apple_Pie + 1.2 Food_Banana + 5.4 Food_Beef_Frankfurter\n + 0.9 Food_Chocolate_Chip_Cookies + 8 Food_Frozen_Broccoli\n + 2.5 Food_Frozen_Corn + 1.1 Food_Oatmeal_Cookies + 0.3 Food_Raw_Apple\n + 0.2 Food_Raw_Lettuce_Iceberg + 42.2 Food_Roasted_Chicken\n + 6.7 Food_Scrambled_Eggs + 8.2 Food_Spaghetti_W__Sauce + 9.4 Food_Tofu\n + 3.9 Food_Turkey_Bologna + 2.2 Food_Wheat_Bread + 2.3 Food_White_Bread\n + 3.7 Food__Baked_Potatoes >= 100\n\n_C8: 0.5 Food_Apple_Pie + 1.2 Food_Banana + 5.4 Food_Beef_Frankfurter\n + 0.9 Food_Chocolate_Chip_Cookies + 8 Food_Frozen_Broccoli\n + 2.5 Food_Frozen_Corn + 1.1 Food_Oatmeal_Cookies + 0.3 Food_Raw_Apple\n + 0.2 Food_Raw_Lettuce_Iceberg + 42.2 Food_Roasted_Chicken\n + 6.7 Food_Scrambled_Eggs + 8.2 Food_Spaghetti_W__Sauce + 9.4 Food_Tofu\n + 3.9 Food_Turkey_Bologna + 2.2 Food_Wheat_Bread + 2.3 Food_White_Bread\n + 3.7 Food__Baked_Potatoes <= 150\n\nVARIABLES\nFood_Apple_Pie Continuous\nFood_Banana Continuous\nFood_Beef_Frankfurter Continuous\nFood_Chocolate_Chip_Cookies Continuous\nFood_Frozen_Broccoli Continuous\nFood_Frozen_Corn Continuous\nFood_Oatmeal_Cookies Continuous\nFood_Raw_Apple Continuous\nFood_Raw_Lettuce_Iceberg Continuous\nFood_Roasted_Chicken Continuous\nFood_Scrambled_Eggs Continuous\nFood_Spaghetti_W__Sauce Continuous\nFood_Tofu Continuous\nFood_Turkey_Bologna Continuous\nFood_Wheat_Bread Continuous\nFood_White_Bread Continuous\nFood__Baked_Potatoes Continuous"
     },
     "execution_count": 162,
     "metadata": {},
     "output_type": "execute_result"
    }
   ],
   "source": [
    "#inspecting LP object\n",
    "prob"
   ]
  },
  {
   "cell_type": "code",
   "execution_count": 163,
   "metadata": {},
   "outputs": [
    {
     "name": "stdout",
     "output_type": "stream",
     "text": "CPU times: user 8.93 ms, sys: 4.35 ms, total: 13.3 ms\nWall time: 25.1 ms\n"
    },
    {
     "data": {
      "text/plain": "1"
     },
     "execution_count": 163,
     "metadata": {},
     "output_type": "execute_result"
    }
   ],
   "source": [
    "#solving LP\n",
    "%time prob.solve()"
   ]
  },
  {
   "cell_type": "code",
   "execution_count": 164,
   "metadata": {},
   "outputs": [
    {
     "data": {
      "text/plain": "'Optimal'"
     },
     "execution_count": 164,
     "metadata": {},
     "output_type": "execute_result"
    }
   ],
   "source": [
    "#inspecting status of the solution\n",
    "LpStatus[prob.status]"
   ]
  },
  {
   "cell_type": "code",
   "execution_count": 165,
   "metadata": {},
   "outputs": [
    {
     "data": {
      "text/plain": "{Food_Apple_Pie: 0.0,\n Food_Banana: 0.0,\n Food_Beef_Frankfurter: 0.0,\n Food_Chocolate_Chip_Cookies: 0.0,\n Food_Frozen_Broccoli: 6.9242113,\n Food_Frozen_Corn: 0.0,\n Food_Oatmeal_Cookies: 0.0,\n Food_Raw_Apple: 0.0,\n Food_Raw_Lettuce_Iceberg: 0.0,\n Food_Roasted_Chicken: 0.0,\n Food_Scrambled_Eggs: 6.060891,\n Food_Spaghetti_W__Sauce: 0.0,\n Food_Tofu: 0.0,\n Food_Turkey_Bologna: 0.0,\n Food_Wheat_Bread: 0.0,\n Food_White_Bread: 0.0,\n Food__Baked_Potatoes: 1.0806324}"
     },
     "execution_count": 165,
     "metadata": {},
     "output_type": "execute_result"
    }
   ],
   "source": [
    "#inspecting the values for the variables\n",
    "{v : v.varValue for v in prob.variables()} "
   ]
  },
  {
   "cell_type": "code",
   "execution_count": 166,
   "metadata": {},
   "outputs": [
    {
     "data": {
      "text/plain": "5.518229286"
     },
     "execution_count": 166,
     "metadata": {},
     "output_type": "execute_result"
    }
   ],
   "source": [
    "#RESULT: found value for the diet cost\n",
    "value(prob.objective)"
   ]
  },
  {
   "cell_type": "markdown",
   "metadata": {},
   "source": [
    "**Same problem, but restricting variables as integers numbers (integer programming problem)**"
   ]
  },
  {
   "cell_type": "code",
   "execution_count": 167,
   "metadata": {},
   "outputs": [],
   "source": [
    "#instantiation of LP object\n",
    "prob = LpProblem('Simple diet problem - Integer', LpMinimize)"
   ]
  },
  {
   "cell_type": "code",
   "execution_count": 182,
   "metadata": {},
   "outputs": [],
   "source": [
    "#sets\n",
    "food_items =  df['Foods'].to_list()"
   ]
  },
  {
   "cell_type": "code",
   "execution_count": 169,
   "metadata": {},
   "outputs": [],
   "source": [
    "#costants\n",
    "costs = dict(zip(food_items, df['Price/Serving'].to_list()))\n",
    "calories = dict(zip(food_items, df['Calories']))\n",
    "fat = dict(zip(food_items,df['Total_Fat (g)']))\n",
    "carbs = dict(zip(food_items,df['Carbohydrates (g)']))\n",
    "proteins = dict(zip(food_items, df['Protein (g)']))"
   ]
  },
  {
   "cell_type": "code",
   "execution_count": 170,
   "metadata": {},
   "outputs": [],
   "source": [
    "#variables\n",
    "food_vars = LpVariable.dicts('Food', food_items, lowBound=0, cat='Integer') #HERE IS THE DIFFERENCE!! (compare with the previous code!!)"
   ]
  },
  {
   "cell_type": "code",
   "execution_count": 171,
   "metadata": {},
   "outputs": [],
   "source": [
    "#OBJECTIVE FUNTION\n",
    "prob += lpSum([costs[i]*food_vars[i] for i in food_items])"
   ]
  },
  {
   "cell_type": "code",
   "execution_count": 172,
   "metadata": {},
   "outputs": [],
   "source": [
    "#constraint: calories\n",
    "prob += lpSum([calories[f] * food_vars[f] for f in food_items]) >= 800.0\n",
    "prob += lpSum([calories[f] * food_vars[f] for f in food_items]) <= 1300.0"
   ]
  },
  {
   "cell_type": "code",
   "execution_count": 173,
   "metadata": {},
   "outputs": [],
   "source": [
    "#constraint: fat\n",
    "prob += lpSum([fat[f] * food_vars[f] for f in food_items]) >= 20.0\n",
    "prob += lpSum([fat[f] * food_vars[f] for f in food_items]) <= 50.0"
   ]
  },
  {
   "cell_type": "code",
   "execution_count": 174,
   "metadata": {},
   "outputs": [],
   "source": [
    "#constraint: carbs\n",
    "prob += lpSum([carbs[f] * food_vars[f] for f in food_items]) >= 130.0\n",
    "prob += lpSum([carbs[f] * food_vars[f] for f in food_items]) <= 200.0"
   ]
  },
  {
   "cell_type": "code",
   "execution_count": 175,
   "metadata": {},
   "outputs": [],
   "source": [
    "#constraint: carbs\n",
    "prob += lpSum([proteins[f] * food_vars[f] for f in food_items]) >= 100.0\n",
    "prob += lpSum([proteins[f] * food_vars[f] for f in food_items]) <= 150.0"
   ]
  },
  {
   "cell_type": "code",
   "execution_count": 176,
   "metadata": {},
   "outputs": [
    {
     "name": "stdout",
     "output_type": "stream",
     "text": "CPU times: user 6.26 ms, sys: 8.25 ms, total: 14.5 ms\nWall time: 32.1 ms\n"
    },
    {
     "data": {
      "text/plain": "1"
     },
     "execution_count": 176,
     "metadata": {},
     "output_type": "execute_result"
    }
   ],
   "source": [
    "#solving LP\n",
    "%time prob.solve() #It will take longer time than before.."
   ]
  },
  {
   "cell_type": "code",
   "execution_count": 177,
   "metadata": {},
   "outputs": [
    {
     "data": {
      "text/plain": "'Optimal'"
     },
     "execution_count": 177,
     "metadata": {},
     "output_type": "execute_result"
    }
   ],
   "source": [
    "#inspecting status of the solution\n",
    "LpStatus[prob.status]"
   ]
  },
  {
   "cell_type": "code",
   "execution_count": 179,
   "metadata": {},
   "outputs": [
    {
     "data": {
      "text/plain": "{Food_Frozen_Broccoli: 7.0,\n Food_Raw_Lettuce_Iceberg: 1.0,\n Food_Scrambled_Eggs: 6.0,\n Food__Baked_Potatoes: 1.0}"
     },
     "execution_count": 179,
     "metadata": {},
     "output_type": "execute_result"
    }
   ],
   "source": [
    "#inspecting the values for the variables\n",
    "{v : v.varValue for v in prob.variables() if v.varValue > 0} "
   ]
  },
  {
   "cell_type": "code",
   "execution_count": 180,
   "metadata": {},
   "outputs": [
    {
     "data": {
      "text/plain": "5.58"
     },
     "execution_count": 180,
     "metadata": {},
     "output_type": "execute_result"
    }
   ],
   "source": [
    "#RESULT: found value for the diet cost\n",
    "value(prob.objective)"
   ]
  },
  {
   "cell_type": "markdown",
   "metadata": {},
   "source": [
    "***"
   ]
  },
  {
   "cell_type": "code",
   "execution_count": 237,
   "metadata": {},
   "outputs": [],
   "source": [
    "prob = LpProblem('Brewery', LpMaximize)"
   ]
  },
  {
   "cell_type": "code",
   "execution_count": 238,
   "metadata": {},
   "outputs": [],
   "source": [
    "#set\n",
    "beer_items = ['Ale', 'Beer']"
   ]
  },
  {
   "cell_type": "code",
   "execution_count": 239,
   "metadata": {},
   "outputs": [],
   "source": [
    "#constants\n",
    "consts = dict( zip(beer_items, [13, 23]) )\n",
    "\n",
    "rc1 = dict( zip(beer_items, [4, 4]) )\n",
    "rc2 = dict( zip(beer_items, [35, 20]) )\n",
    "rc3 = dict( zip(beer_items, [5, 15]) )"
   ]
  },
  {
   "cell_type": "code",
   "execution_count": 240,
   "metadata": {},
   "outputs": [],
   "source": [
    "#variables\n",
    "beer_vars = LpVariable.dicts('beer', beer_items, lowBound=0, cat='Integer')"
   ]
  },
  {
   "cell_type": "code",
   "execution_count": 241,
   "metadata": {},
   "outputs": [],
   "source": [
    "#objective funtion\n",
    "prob += lpSum([beer_vars[i]*consts[i] for i in beer_items] )"
   ]
  },
  {
   "cell_type": "code",
   "execution_count": 242,
   "metadata": {},
   "outputs": [],
   "source": [
    "#constraints\n",
    "prob += lpSum([rc1[i]*beer_vars[i] for i in beer_items]) <= 160\n",
    "prob += lpSum([rc2[i]*beer_vars[i] for i in beer_items]) <= 1190\n",
    "prob += lpSum([rc3[i]*beer_vars[i] for i in beer_items]) <= 480"
   ]
  },
  {
   "cell_type": "code",
   "execution_count": 243,
   "metadata": {},
   "outputs": [
    {
     "data": {
      "text/plain": "Brewery:\nMAXIMIZE\n13*beer_Ale + 23*beer_Beer + 0\nSUBJECT TO\n_C1: 4 beer_Ale + 4 beer_Beer <= 160\n\n_C2: 35 beer_Ale + 20 beer_Beer <= 1190\n\n_C3: 5 beer_Ale + 15 beer_Beer <= 480\n\nVARIABLES\n0 <= beer_Ale Integer\n0 <= beer_Beer Integer"
     },
     "execution_count": 243,
     "metadata": {},
     "output_type": "execute_result"
    }
   ],
   "source": [
    "#inspecting LP\n",
    "prob"
   ]
  },
  {
   "cell_type": "code",
   "execution_count": 244,
   "metadata": {},
   "outputs": [
    {
     "data": {
      "text/plain": "1"
     },
     "execution_count": 244,
     "metadata": {},
     "output_type": "execute_result"
    }
   ],
   "source": [
    "#solving...\n",
    "prob.solve()"
   ]
  },
  {
   "cell_type": "code",
   "execution_count": 245,
   "metadata": {},
   "outputs": [
    {
     "data": {
      "text/plain": "'Optimal'"
     },
     "execution_count": 245,
     "metadata": {},
     "output_type": "execute_result"
    }
   ],
   "source": [
    "#output status\n",
    "LpStatus[prob.status]"
   ]
  },
  {
   "cell_type": "code",
   "execution_count": 246,
   "metadata": {},
   "outputs": [
    {
     "data": {
      "text/plain": "{beer_Ale: 12.0, beer_Beer: 28.0}"
     },
     "execution_count": 246,
     "metadata": {},
     "output_type": "execute_result"
    }
   ],
   "source": [
    "#inspecting the values for the variables\n",
    "{v : v.varValue for v in prob.variables() if v.varValue > 0} "
   ]
  },
  {
   "cell_type": "code",
   "execution_count": 247,
   "metadata": {},
   "outputs": [
    {
     "data": {
      "text/plain": "800.0"
     },
     "execution_count": 247,
     "metadata": {},
     "output_type": "execute_result"
    }
   ],
   "source": [
    "value(prob.objective)"
   ]
  },
  {
   "cell_type": "code",
   "execution_count": null,
   "metadata": {},
   "outputs": [],
   "source": []
  }
 ],
 "metadata": {
  "kernelspec": {
   "display_name": "Python 3",
   "language": "python",
   "name": "python3"
  },
  "language_info": {
   "codemirror_mode": {
    "name": "ipython",
    "version": 3
   },
   "file_extension": ".py",
   "mimetype": "text/x-python",
   "name": "python",
   "nbconvert_exporter": "python",
   "pygments_lexer": "ipython3",
   "version": "3.5.2-final"
  }
 },
 "nbformat": 4,
 "nbformat_minor": 2
}